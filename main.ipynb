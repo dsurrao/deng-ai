{
 "cells": [
  {
   "cell_type": "code",
   "execution_count": 263,
   "id": "077bbf1f",
   "metadata": {},
   "outputs": [],
   "source": [
    "import polars as pl\n",
    "from sklearn.ensemble import HistGradientBoostingRegressor"
   ]
  },
  {
   "cell_type": "code",
   "execution_count": 264,
   "id": "4a7a9d8a",
   "metadata": {},
   "outputs": [],
   "source": [
    "def preprocess_data(features: pl.DataFrame) -> pl.DataFrame:\n",
    "    features = features.fill_nan(None)\n",
    "    features = features.fill_null(strategy=\"forward\")\n",
    "    features = features.sort(\"week_start_date\")\n",
    "    features = features.with_columns(\n",
    "        reanalysis_specific_humidity_g_per_kg_prev\n",
    "            = pl.col(\"reanalysis_specific_humidity_g_per_kg\").shift(8))\n",
    "    features = features.with_columns(station_avg_temp_c_prev\n",
    "            = pl.col(\"station_avg_temp_c\").shift(9))\n",
    "    features = features.with_columns(reanalysis_dew_point_temp_k_prev\n",
    "            = pl.col(\"reanalysis_dew_point_temp_k\").shift(8))\n",
    "    features = features.fill_null(strategy=\"backward\")\n",
    "    return features"
   ]
  },
  {
   "cell_type": "code",
   "execution_count": 265,
   "id": "357f5742",
   "metadata": {},
   "outputs": [],
   "source": [
    "def get_predictions(city):\n",
    "    # build the training data set\n",
    "    q = (\n",
    "        pl.scan_csv(\"data/dengue_features_train.csv\")\n",
    "        .filter(pl.col(\"city\") == city)\n",
    "    )\n",
    "    features_train = q.collect()\n",
    "    features_train = preprocess_data(features_train)\n",
    "\n",
    "    q = (\n",
    "        pl.scan_csv(\"data/dengue_labels_train.csv\")\n",
    "        .filter(pl.col(\"city\") == city)\n",
    "    )\n",
    "    labels_train = q.collect()\n",
    "\n",
    "    features_and_labels_train = features_train.join(\n",
    "        labels_train, left_on=['city', 'year', 'weekofyear'], \n",
    "        right_on=['city', 'year', 'weekofyear'], how='inner', \n",
    "        maintain_order=\"left\")\n",
    "    selected_features = [\n",
    "        #\"reanalysis_specific_humidity_g_per_kg\",\n",
    "        \"reanalysis_specific_humidity_g_per_kg_prev\",\n",
    "        #\"station_avg_temp_c\",\n",
    "        \"station_avg_temp_c_prev\",\n",
    "        #\"reanalysis_dew_point_temp_k\",\n",
    "        \"reanalysis_dew_point_temp_k_prev\",\n",
    "        # \"station_avg_temp_c\",\n",
    "        # \"station_min_temp_c\",\n",
    "        #\"total_cases\"\n",
    "    ]\n",
    "    #print(features_and_labels_train[selected_features].corr())\n",
    "\n",
    "    # train the model\n",
    "    X = features_and_labels_train[selected_features]\n",
    "    y = features_and_labels_train[\"total_cases\"]\n",
    "    clf = HistGradientBoostingRegressor(max_iter=100).fit(X, y)\n",
    "    \n",
    "    # now make predictions on the test set\n",
    "    q = (\n",
    "        pl.scan_csv(\"data/dengue_features_test.csv\")\n",
    "        .filter(pl.col(\"city\") == city)\n",
    "    )\n",
    "    features_test = q.collect()\n",
    "    features_test = preprocess_data(features_test)\n",
    "\n",
    "    y_pred = clf.predict(features_test[selected_features]).clip(min=0)\n",
    "    result = pl.concat([features_test, \n",
    "                     pl.DataFrame({\"total_cases\": y_pred.round().astype(int)})], how=\"horizontal\")\n",
    "    \n",
    "    return result['city', 'year', 'weekofyear', 'total_cases']"
   ]
  },
  {
   "cell_type": "code",
   "execution_count": 266,
   "id": "aacc0e25",
   "metadata": {},
   "outputs": [],
   "source": [
    "sj_predictions = get_predictions(\"sj\")\n",
    "iq_predictions = get_predictions(\"iq\")\n",
    "pl.concat([sj_predictions, iq_predictions], how=\"vertical\").write_csv(\n",
    "    \"data/output.csv\")"
   ]
  }
 ],
 "metadata": {
  "kernelspec": {
   "display_name": "Python 3",
   "language": "python",
   "name": "python3"
  },
  "language_info": {
   "codemirror_mode": {
    "name": "ipython",
    "version": 3
   },
   "file_extension": ".py",
   "mimetype": "text/x-python",
   "name": "python",
   "nbconvert_exporter": "python",
   "pygments_lexer": "ipython3",
   "version": "3.10.7"
  }
 },
 "nbformat": 4,
 "nbformat_minor": 5
}
