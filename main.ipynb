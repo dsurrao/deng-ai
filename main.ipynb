{
 "cells": [
  {
   "cell_type": "code",
   "execution_count": 38,
   "id": "077bbf1f",
   "metadata": {},
   "outputs": [],
   "source": [
    "import polars as pl\n",
    "import math\n",
    "from datetime import timedelta, datetime\n",
    "from sklearn.ensemble import HistGradientBoostingRegressor"
   ]
  },
  {
   "cell_type": "code",
   "execution_count": 39,
   "id": "ab4f2536",
   "metadata": {},
   "outputs": [],
   "source": [
    "\"\"\"\n",
    "Adds columns for previous week and previous week year to the dataframe\n",
    "\"\"\"\n",
    "def preprocess_features(features: pl.DataFrame) -> pl.DataFrame:\n",
    "    delta_in_weeks = 3\n",
    "    features = features.with_columns(\n",
    "        ((pl.col(\"week_start_date\").cast(pl.Date) \n",
    "         + timedelta(weeks=delta_in_weeks)).dt.year()).alias(\"next_week_year\"))\n",
    "    features = features.with_columns(\n",
    "        (((pl.col(\"week_start_date\").cast(pl.Date) \n",
    "           + timedelta(weeks=delta_in_weeks)).dt.week())).alias(\"next_weekofyear\"))\n",
    "    return (features)"
   ]
  },
  {
   "cell_type": "code",
   "execution_count": 40,
   "id": "357f5742",
   "metadata": {},
   "outputs": [],
   "source": [
    "def get_predictions(city):\n",
    "    # build the training data set\n",
    "    q = (\n",
    "        pl.scan_csv(\"data/dengue_features_train.csv\")\n",
    "        .filter(pl.col(\"city\") == city)\n",
    "    )\n",
    "    train_features = q.collect()\n",
    "    train_features = preprocess_features(train_features)\n",
    "\n",
    "    q = (\n",
    "        pl.scan_csv(\"data/dengue_labels_train.csv\")\n",
    "        .filter(pl.col(\"city\") == city)\n",
    "    )\n",
    "    train_labels = q.collect()\n",
    "\n",
    "    train_features_and_labels = train_features.join(\n",
    "        train_labels, left_on=['city', 'next_week_year', 'next_weekofyear'], \n",
    "        right_on=['city', 'year', 'weekofyear'], how='inner')\n",
    "    \n",
    "    selected_features = [\n",
    "        \"weekofyear\",\n",
    "        \"reanalysis_specific_humidity_g_per_kg\",\n",
    "        \"reanalysis_dew_point_temp_k\",\n",
    "        \"station_avg_temp_c\",\n",
    "        \"station_min_temp_c\",\n",
    "    ]\n",
    "\n",
    "    # train the model\n",
    "    X = train_features_and_labels[selected_features]\n",
    "    y = train_features_and_labels[\"total_cases\"]\n",
    "    train_len = math.ceil(3/4 * X.shape[0])\n",
    "    #train_len = X.shape[0]\n",
    "    X_train, X_test = X[:train_len], X[train_len:]\n",
    "    y_train, y_test = y[:train_len], y[train_len:]\n",
    "    clf = HistGradientBoostingRegressor(max_iter=100).fit(X_train, y_train)\n",
    "    print(clf.score(X_test, y_test))\n",
    "\n",
    "    # now make predictions on the test set\n",
    "    q = (\n",
    "        pl.scan_csv(\"data/dengue_features_test.csv\")\n",
    "        .filter(pl.col(\"city\") == city)\n",
    "    )\n",
    "    test_features = q.collect()\n",
    "    y_pred = clf.predict(test_features[selected_features])\n",
    "    result = pl.concat([test_features, \n",
    "                     pl.DataFrame({\"total_cases\": y_pred.round().astype(int)})], how=\"horizontal\")\n",
    "    \n",
    "    return result['city', 'year', 'weekofyear', 'total_cases']"
   ]
  },
  {
   "cell_type": "code",
   "execution_count": 41,
   "id": "aacc0e25",
   "metadata": {},
   "outputs": [
    {
     "name": "stdout",
     "output_type": "stream",
     "text": [
      "-0.1581144756410573\n",
      "-0.006391480350445011\n"
     ]
    },
    {
     "data": {
      "text/plain": [
       "'\\n1 week delta\\n-0.36469794209963124\\n-0.023403422194176793\\n\\n2 weeks delta\\n-0.20022916400242186\\n-0.00998963400642272\\n\\n3 weeks delta\\n-0.1581144756410573\\n-0.006391480350445011\\n\\n\\n'"
      ]
     },
     "execution_count": 41,
     "metadata": {},
     "output_type": "execute_result"
    }
   ],
   "source": [
    "sj_predictions = get_predictions(\"sj\")\n",
    "iq_predictions = get_predictions(\"iq\")\n",
    "pl.concat([sj_predictions, iq_predictions], how=\"vertical\").write_csv(\n",
    "    \"data/output.csv\")\n",
    "\n",
    "\"\"\"\n",
    "1 week delta\n",
    "-0.36469794209963124\n",
    "-0.023403422194176793\n",
    "\n",
    "2 weeks delta\n",
    "-0.20022916400242186\n",
    "-0.00998963400642272\n",
    "\n",
    "3 weeks delta\n",
    "-0.1581144756410573\n",
    "-0.006391480350445011\n",
    "\n",
    "\n",
    "\"\"\""
   ]
  }
 ],
 "metadata": {
  "kernelspec": {
   "display_name": "Python 3",
   "language": "python",
   "name": "python3"
  },
  "language_info": {
   "codemirror_mode": {
    "name": "ipython",
    "version": 3
   },
   "file_extension": ".py",
   "mimetype": "text/x-python",
   "name": "python",
   "nbconvert_exporter": "python",
   "pygments_lexer": "ipython3",
   "version": "3.10.7"
  }
 },
 "nbformat": 4,
 "nbformat_minor": 5
}
